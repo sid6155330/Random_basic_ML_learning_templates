{
  "nbformat": 4,
  "nbformat_minor": 0,
  "metadata": {
    "colab": {
      "name": "Untitled0.ipynb",
      "provenance": []
    },
    "kernelspec": {
      "name": "python3",
      "display_name": "Python 3"
    }
  },
  "cells": [
    {
      "cell_type": "markdown",
      "metadata": {
        "id": "mTzexpEAuWkM",
        "colab_type": "text"
      },
      "source": [
        "\n",
        "\n",
        "# **Simple Regression**\n",
        "Fit a line to the real temprature data. \n",
        "\n"
      ]
    },
    {
      "cell_type": "code",
      "metadata": {
        "id": "6dz6G3wqeLiN",
        "colab_type": "code",
        "colab": {
          "base_uri": "https://localhost:8080/",
          "height": 298
        },
        "outputId": "79a039af-468f-4842-db7f-386e7673bce1"
      },
      "source": [
        "\n",
        "import numpy as np\n",
        "from matplotlib import pyplot as plt\n",
        "\n",
        "temps=np.array([5.5, 7.8, 9.2, 10.5, 12.6, 15.1, 17.4, 19.7])\n",
        "n_days= temps.size\n",
        "days=np.arange(n_days)\n",
        "print(days)\n",
        "plt.scatter(days,temps)\n",
        "\n",
        "temp_change=2\n",
        "intercept=5\n",
        "\n",
        "def find_temp_error (days, temps, intercept, slope):\n",
        "    slope= temp_change/1\n",
        "    estimates=intercept+slope*days\n",
        "    temp_error= temps-estimates\n",
        "    #print(estimates)\n",
        "    return temp_error \n",
        "temp_error=find_temp_error (days, temps,intercept, slope)\n",
        "squared_error=temp_error**2\n",
        "\n",
        "slope, intercept=np.polyfit(days, temps,1)\n",
        "\n",
        "def find_new_estimates (days, temps, intercept, slope):\n",
        "    slope= temp_change/1\n",
        "    new_estimates=intercept+slope*days\n",
        "    #new_temp_error= temps-new_estimates\n",
        "    return new_estimates\n",
        "new_estimates=find_new_estimates (days, temps, intercept, slope)\n",
        "\n",
        "\n",
        "\n",
        "plt.scatter(days,temps, label=f'Real temp')\n",
        "plt.plot(days,new_estimates,label=f'Best line fit')\n",
        "plt.title('Linefit to temprature data')\n",
        "plt.legend()\n",
        "plt.show()\n",
        "\n",
        "\n"
      ],
      "execution_count": null,
      "outputs": [
        {
          "output_type": "stream",
          "text": [
            "[0 1 2 3 4 5 6 7]\n"
          ],
          "name": "stdout"
        },
        {
          "output_type": "display_data",
          "data": {
            "image/png": "[encoded data removed]",
            "text/plain": [
              "<Figure size 432x288 with 1 Axes>"
            ]
          },
          "metadata": {
            "tags": [],
            "needs_background": "light"
          }
        }
      ]
    }
  ]
}